{
 "cells": [
  {
   "cell_type": "code",
   "execution_count": 2,
   "metadata": {},
   "outputs": [
    {
     "data": {
      "text/plain": [
       "<bound method NDFrame.describe of      Site_Id Unit_Id   Read_Date  Salinity (ppt)  Dissolved Oxygen (mg/L)  \\\n",
       "0        Bay     NaN    1/3/1994             1.3                     11.7   \n",
       "1        Bay     NaN   1/31/1994             1.5                     12.0   \n",
       "2        Bay     NaN    2/7/1994             1.0                     10.5   \n",
       "3        Bay     NaN   2/23/1994             1.0                     10.1   \n",
       "4        Bay     NaN   2/28/1994             1.0                     12.6   \n",
       "...      ...     ...         ...             ...                      ...   \n",
       "2366     Bay     NaN  10/11/2018             1.9                      5.0   \n",
       "2367     Bay     NaN  10/24/2018             0.0                      9.0   \n",
       "2368     Bay     NaN  10/28/2018             0.9                      2.9   \n",
       "2369     Bay     NaN   11/7/2018             1.7                      NaN   \n",
       "2370     Bay     NaN  12/11/2018             0.1                      NaN   \n",
       "\n",
       "      pH (standard units)  Secchi Depth (m)  Water Depth (m)  Water Temp (?C)  \\\n",
       "0                     7.3              0.40             0.40              5.9   \n",
       "1                     7.4              0.20             0.35              3.0   \n",
       "2                     7.2              0.25             0.60              5.9   \n",
       "3                     7.4              0.35             0.50             10.0   \n",
       "4                     7.2              0.20             0.40              1.6   \n",
       "...                   ...               ...              ...              ...   \n",
       "2366                  7.0              4.00             1.20             25.0   \n",
       "2367                  7.0              0.30             0.60             18.0   \n",
       "2368                  7.0              0.40             0.90             13.0   \n",
       "2369                  7.0              0.45             0.90             20.0   \n",
       "2370                  7.0              0.10             0.10             10.0   \n",
       "\n",
       "      Air Temp-Celsius  Air Temp (?F) Time (24:00) Field_Tech DateVerified  \\\n",
       "0                  8.0          46.40        11:00        NaN          NaN   \n",
       "1                  2.6          36.68        11:30        NaN          NaN   \n",
       "2                  7.6          45.68         9:45        NaN          NaN   \n",
       "3                  2.7          36.86          NaN        NaN          NaN   \n",
       "4                  0.0          32.00        10:30        NaN          NaN   \n",
       "...                ...            ...          ...        ...          ...   \n",
       "2366               NaN          78.00        09:30    Sue Poe   11/13/2019   \n",
       "2367               NaN          58.00        09:30    Sue Poe   11/13/2019   \n",
       "2368               NaN          49.00        09:20    Sue Poe   11/13/2019   \n",
       "2369               NaN          65.00        09:45    Sue Poe   11/13/2019   \n",
       "2370               NaN          42.00        09:40    Sue Poe   11/13/2019   \n",
       "\n",
       "          WhoVerified  AirTemp (C)  Year  \n",
       "0                 NaN     8.000000  1994  \n",
       "1                 NaN     2.600000  1994  \n",
       "2                 NaN     7.600000  1994  \n",
       "3                 NaN     2.700000  1994  \n",
       "4                 NaN     0.000000  1994  \n",
       "...               ...          ...   ...  \n",
       "2366  Christine Folks    25.555556  2018  \n",
       "2367  Christine Folks    14.444444  2018  \n",
       "2368  Christine Folks     9.444444  2018  \n",
       "2369  Christine Folks    18.333333  2018  \n",
       "2370  Christine Folks     5.555556  2018  \n",
       "\n",
       "[2371 rows x 17 columns]>"
      ]
     },
     "execution_count": 2,
     "metadata": {},
     "output_type": "execute_result"
    }
   ],
   "source": [
    "import pandas as pd\n",
    "filename = \"https://raw.githubusercontent.com/ENVS110a-SP23/group8-project/main/BKB_WaterQualityData_2020084%20(1).csv\"\n",
    "df = pd.read_csv(filename)\n",
    "\n",
    "df.head()\n",
    "\n"
   ]
  },
  {
   "cell_type": "code",
   "execution_count": 5,
   "metadata": {},
   "outputs": [
    {
     "data": {
      "text/plain": [
       "<bound method NDFrame.describe of      Site_Id Unit_Id   Read_Date  Salinity (ppt)  Dissolved Oxygen (mg/L)  \\\n",
       "0        Bay     NaN    1/3/1994             1.3                     11.7   \n",
       "1        Bay     NaN   1/31/1994             1.5                     12.0   \n",
       "2        Bay     NaN    2/7/1994             1.0                     10.5   \n",
       "3        Bay     NaN   2/23/1994             1.0                     10.1   \n",
       "4        Bay     NaN   2/28/1994             1.0                     12.6   \n",
       "...      ...     ...         ...             ...                      ...   \n",
       "2366     Bay     NaN  10/11/2018             1.9                      5.0   \n",
       "2367     Bay     NaN  10/24/2018             0.0                      9.0   \n",
       "2368     Bay     NaN  10/28/2018             0.9                      2.9   \n",
       "2369     Bay     NaN   11/7/2018             1.7                      NaN   \n",
       "2370     Bay     NaN  12/11/2018             0.1                      NaN   \n",
       "\n",
       "      pH (standard units)  Secchi Depth (m)  Water Depth (m)  Water Temp (?C)  \\\n",
       "0                     7.3              0.40             0.40              5.9   \n",
       "1                     7.4              0.20             0.35              3.0   \n",
       "2                     7.2              0.25             0.60              5.9   \n",
       "3                     7.4              0.35             0.50             10.0   \n",
       "4                     7.2              0.20             0.40              1.6   \n",
       "...                   ...               ...              ...              ...   \n",
       "2366                  7.0              4.00             1.20             25.0   \n",
       "2367                  7.0              0.30             0.60             18.0   \n",
       "2368                  7.0              0.40             0.90             13.0   \n",
       "2369                  7.0              0.45             0.90             20.0   \n",
       "2370                  7.0              0.10             0.10             10.0   \n",
       "\n",
       "      Air Temp-Celsius  Air Temp (?F) Time (24:00) Field_Tech DateVerified  \\\n",
       "0                  8.0          46.40        11:00        NaN          NaN   \n",
       "1                  2.6          36.68        11:30        NaN          NaN   \n",
       "2                  7.6          45.68         9:45        NaN          NaN   \n",
       "3                  2.7          36.86          NaN        NaN          NaN   \n",
       "4                  0.0          32.00        10:30        NaN          NaN   \n",
       "...                ...            ...          ...        ...          ...   \n",
       "2366               NaN          78.00        09:30    Sue Poe   11/13/2019   \n",
       "2367               NaN          58.00        09:30    Sue Poe   11/13/2019   \n",
       "2368               NaN          49.00        09:20    Sue Poe   11/13/2019   \n",
       "2369               NaN          65.00        09:45    Sue Poe   11/13/2019   \n",
       "2370               NaN          42.00        09:40    Sue Poe   11/13/2019   \n",
       "\n",
       "          WhoVerified  AirTemp (C)  Year  \n",
       "0                 NaN     8.000000  1994  \n",
       "1                 NaN     2.600000  1994  \n",
       "2                 NaN     7.600000  1994  \n",
       "3                 NaN     2.700000  1994  \n",
       "4                 NaN     0.000000  1994  \n",
       "...               ...          ...   ...  \n",
       "2366  Christine Folks    25.555556  2018  \n",
       "2367  Christine Folks    14.444444  2018  \n",
       "2368  Christine Folks     9.444444  2018  \n",
       "2369  Christine Folks    18.333333  2018  \n",
       "2370  Christine Folks     5.555556  2018  \n",
       "\n",
       "[2371 rows x 17 columns]>"
      ]
     },
     "execution_count": 5,
     "metadata": {},
     "output_type": "execute_result"
    }
   ],
   "source": [
    "df.describe"
   ]
  },
  {
   "cell_type": "code",
   "execution_count": 4,
   "metadata": {},
   "outputs": [
    {
     "name": "stdout",
     "output_type": "stream",
     "text": [
      "9981\n"
     ]
    }
   ],
   "source": [
    "# count na values present in the data frame\n",
    "na_values = df.isna().sum().sum()\n",
    "print(na_values)"
   ]
  }
 ],
 "metadata": {
  "kernelspec": {
   "display_name": "base",
   "language": "python",
   "name": "python3"
  },
  "language_info": {
   "codemirror_mode": {
    "name": "ipython",
    "version": 3
   },
   "file_extension": ".py",
   "mimetype": "text/x-python",
   "name": "python",
   "nbconvert_exporter": "python",
   "pygments_lexer": "ipython3",
   "version": "3.8.8"
  },
  "orig_nbformat": 4
 },
 "nbformat": 4,
 "nbformat_minor": 2
}
