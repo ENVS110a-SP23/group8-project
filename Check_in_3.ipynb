{
 "cells": [
  {
   "attachments": {},
   "cell_type": "markdown",
   "metadata": {},
   "source": [
    "Check-in 3:\n"
   ]
  },
  {
   "cell_type": "code",
   "execution_count": 6,
   "metadata": {},
   "outputs": [
    {
     "name": "stderr",
     "output_type": "stream",
     "text": [
      "/var/folders/hc/c3wwhk1d7hgf3wgfkwbmh4c00000gn/T/ipykernel_69025/2144448717.py:6: ParserWarning: Falling back to the 'python' engine because the 'c' engine does not support regex separators (separators > 1 char and different from '\\s+' are interpreted as regex); you can avoid this warning by specifying engine='python'.\n",
      "  df = pd.read_csv(csv, sep='delimiter', header=None)\n"
     ]
    },
    {
     "data": {
      "text/html": [
       "<div>\n",
       "<style scoped>\n",
       "    .dataframe tbody tr th:only-of-type {\n",
       "        vertical-align: middle;\n",
       "    }\n",
       "\n",
       "    .dataframe tbody tr th {\n",
       "        vertical-align: top;\n",
       "    }\n",
       "\n",
       "    .dataframe thead th {\n",
       "        text-align: right;\n",
       "    }\n",
       "</style>\n",
       "<table border=\"1\" class=\"dataframe\">\n",
       "  <thead>\n",
       "    <tr style=\"text-align: right;\">\n",
       "      <th></th>\n",
       "      <th>0</th>\n",
       "    </tr>\n",
       "  </thead>\n",
       "  <tbody>\n",
       "    <tr>\n",
       "      <th>count</th>\n",
       "      <td>48671</td>\n",
       "    </tr>\n",
       "    <tr>\n",
       "      <th>unique</th>\n",
       "      <td>7166</td>\n",
       "    </tr>\n",
       "    <tr>\n",
       "      <th>top</th>\n",
       "      <td>&lt;td&gt;&lt;/td&gt;</td>\n",
       "    </tr>\n",
       "    <tr>\n",
       "      <th>freq</th>\n",
       "      <td>9944</td>\n",
       "    </tr>\n",
       "  </tbody>\n",
       "</table>\n",
       "</div>"
      ],
      "text/plain": [
       "                0\n",
       "count       48671\n",
       "unique       7166\n",
       "top     <td></td>\n",
       "freq         9944"
      ]
     },
     "execution_count": 6,
     "metadata": {},
     "output_type": "execute_result"
    }
   ],
   "source": [
    "import pandas as pd\n",
    "\n",
    "csv = 'https://github.com/ENVS110a-SP23/group8-project/blob/4b66b33c415ce16ad44e7249b3663b1c7af47477/BKB_WaterQualityData_2020084%20(1).csv'\n",
    "\n",
    "#attempting to fix parse error\n",
    "df = pd.read_csv(csv, sep='delimiter', header=None)\n",
    "\n",
    "df.shape\n",
    "df.describe()\n"
   ]
  },
  {
   "attachments": {},
   "cell_type": "markdown",
   "metadata": {},
   "source": [
    "printing summary of the missing data:"
   ]
  },
  {
   "cell_type": "code",
   "execution_count": 14,
   "metadata": {},
   "outputs": [
    {
     "name": "stdout",
     "output_type": "stream",
     "text": [
      "N/A:  0\n"
     ]
    }
   ],
   "source": [
    "print('Not Recorded: ', sum(df.loc[df[:,].all()=='Not Recorded']))\n",
    "print('N/A: ', sum(df=='N/A'))\n",
    "print('null: ', sum(df.isnull().any(axis=1)))"
   ]
  },
  {
   "attachments": {},
   "cell_type": "markdown",
   "metadata": {},
   "source": [
    "removing the missing data:"
   ]
  },
  {
   "cell_type": "code",
   "execution_count": null,
   "metadata": {},
   "outputs": [],
   "source": [
    "print('Not Recorded: ', sum(df.loc[df[:,].all()=='Not Recorded']))\n",
    "print('N/A: ', sum(df=='N/A'))\n",
    "print('null: ', sum(df.isnull().any(axis=1)))\n",
    "df.loc[~df.isnull().any(axis=1),:].reset_index(drop=True)\n",
    "df.loc[~df=='Not Recorded',:].reset_index(drop=True)\n",
    "df.loc[~df=='N/A',:].reset_index(drop=True)"
   ]
  },
  {
   "attachments": {},
   "cell_type": "markdown",
   "metadata": {},
   "source": [
    "providing summary statistics of key variables:"
   ]
  },
  {
   "cell_type": "code",
   "execution_count": null,
   "metadata": {},
   "outputs": [],
   "source": [
    "df.describe()"
   ]
  }
 ],
 "metadata": {
  "kernelspec": {
   "display_name": "base",
   "language": "python",
   "name": "python3"
  },
  "language_info": {
   "name": "python",
   "version": "3.9.13 (main, Aug 25 2022, 18:29:29) \n[Clang 12.0.0 ]"
  },
  "orig_nbformat": 4,
  "vscode": {
   "interpreter": {
    "hash": "c61eebeb717f6a0bfbf9c54bdd77d1fc6641806506f4cd9d35852c05b3dbda76"
   }
  }
 },
 "nbformat": 4,
 "nbformat_minor": 2
}
