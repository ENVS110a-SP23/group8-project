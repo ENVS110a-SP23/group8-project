{
 "cells": [
  {
   "attachments": {},
   "cell_type": "markdown",
   "metadata": {},
   "source": [
    "Check-in 3:\n"
   ]
  },
  {
   "cell_type": "code",
   "execution_count": null,
   "metadata": {},
   "outputs": [],
   "source": [
    "import pandas as pd\n",
    "\n",
    "csv = https://github.com/ENVS110a-SP23/group8-project/blob/4b66b33c415ce16ad44e7249b3663b1c7af47477/BKB_WaterQualityData_2020084%20(1).csv\n",
    "\n",
    "df = pd.read_csv(csv)"
   ]
  }
 ],
 "metadata": {
  "kernelspec": {
   "display_name": "base",
   "language": "python",
   "name": "python3"
  },
  "language_info": {
   "name": "python",
   "version": "3.9.13 (main, Aug 25 2022, 18:29:29) \n[Clang 12.0.0 ]"
  },
  "orig_nbformat": 4,
  "vscode": {
   "interpreter": {
    "hash": "c61eebeb717f6a0bfbf9c54bdd77d1fc6641806506f4cd9d35852c05b3dbda76"
   }
  }
 },
 "nbformat": 4,
 "nbformat_minor": 2
}
